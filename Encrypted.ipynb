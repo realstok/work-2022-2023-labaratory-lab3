{
 "cells": [
  {
   "cell_type": "markdown",
   "id": "afe85b56",
   "metadata": {},
   "source": [
    "#  Реализация кода шифрование гамированием конечной гаммой"
   ]
  },
  {
   "cell_type": "code",
   "execution_count": 101,
   "id": "58d5fc82",
   "metadata": {},
   "outputs": [],
   "source": [
    "def enccrypt(text_1, text_2):\n",
    "    \n",
    "    def alphabet_position(text):\n",
    "        text = ''.join(text)\n",
    "        alphabet = 'абвгдежзийклмнопрстуфхцчшщъыьэюя'\n",
    "        res = ''\n",
    "        for j in text.lower():\n",
    "            if j in alphabet:\n",
    "                res += str(alphabet.index(j)+1) + ', '\n",
    "            else:\n",
    "                res += ' '\n",
    "        return res\n",
    "    \n",
    "    \n",
    "    alphabeth = 'абвгдежзийклмнопрстуфхцчшщъыьэюя'\n",
    "    textLen = len(text_1)\n",
    "    gammaLen = len(text_2)\n",
    "\n",
    "    keyText = []\n",
    "    for i in range(textLen // gammaLen):\n",
    "        for symb in text_2:\n",
    "            keyText.append(symb)\n",
    "    for i in range(textLen % gammaLen):\n",
    "        keyText.append(text_2[i])\n",
    "\n",
    "    num_alp_1 = alphabet_position(text_1)\n",
    "    num_alp_2 = alphabet_position(keyText)\n",
    "    num_alp_1 = num_alp_1.strip().split(',')\n",
    "    num_alp_2 = num_alp_2.strip().split(',')\n",
    "\n",
    "    num_alp_1 = list(map(lambda x: int(x.strip()) if x != '' else None , num_alp_1))\n",
    "    num_alp_1 = list(filter(None, num_alp_1))\n",
    "\n",
    "    num_alp_2 = list(map(lambda x: int(x.strip()) if x != '' else None , num_alp_2))\n",
    "    num_alp_2 = list(filter(None, num_alp_2))\n",
    "\n",
    "    sum_count = list(map(sum, zip(num_alp_1, num_alp_2)))\n",
    "    \n",
    "    alphabet = 'абвгдежзийклмнопрстуфхцчшщъыьэюя'\n",
    "    alphabet = list(alphabet)\n",
    "    length = len(alphabet)\n",
    "    keys = [i for i in range(1, length+1)]\n",
    "    dict_ = dict(zip(keys, alphabet))\n",
    "    final_word = []\n",
    "    for let in sum_count:\n",
    "        final_word.append(dict_[let])\n",
    "    final_word = ''.join(final_word)\n",
    "    final_word\n",
    "    \n",
    "    return final_word\n",
    "    "
   ]
  },
  {
   "cell_type": "code",
   "execution_count": 102,
   "id": "c3060553",
   "metadata": {},
   "outputs": [
    {
     "data": {
      "text/plain": [
       "'усхчбл'"
      ]
     },
     "execution_count": 102,
     "metadata": {},
     "output_type": "execute_result"
    }
   ],
   "source": [
    "text_1 = 'приказ'\n",
    "text_2 = 'гамма'\n",
    "fin = enccrypt(text_1, text_2)\n",
    "fin"
   ]
  }
 ],
 "metadata": {
  "kernelspec": {
   "display_name": "Python 3 (ipykernel)",
   "language": "python",
   "name": "python3"
  },
  "language_info": {
   "codemirror_mode": {
    "name": "ipython",
    "version": 3
   },
   "file_extension": ".py",
   "mimetype": "text/x-python",
   "name": "python",
   "nbconvert_exporter": "python",
   "pygments_lexer": "ipython3",
   "version": "3.9.12"
  }
 },
 "nbformat": 4,
 "nbformat_minor": 5
}
